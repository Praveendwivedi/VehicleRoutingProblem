{
  "nbformat": 4,
  "nbformat_minor": 0,
  "metadata": {
    "colab": {
      "name": "autoclustering.ipynb",
      "provenance": [],
      "authorship_tag": "ABX9TyO21xhwY4qJTCHftmGFouWN",
      "include_colab_link": true
    },
    "kernelspec": {
      "name": "python3",
      "display_name": "Python 3"
    },
    "language_info": {
      "name": "python"
    }
  },
  "cells": [
    {
      "cell_type": "markdown",
      "metadata": {
        "id": "view-in-github",
        "colab_type": "text"
      },
      "source": [
        "<a href=\"https://colab.research.google.com/github/Praveendwivedi/VehicleRoutingProblem/blob/main/clustering-algos/autoclustering.ipynb\" target=\"_parent\"><img src=\"https://colab.research.google.com/assets/colab-badge.svg\" alt=\"Open In Colab\"/></a>"
      ]
    },
    {
      "cell_type": "code",
      "metadata": {
        "id": "GNKW2ccIOoSr"
      },
      "source": [
        "!pip install smac==0.8.0\n",
        "!pip install autocluster\n"
      ],
      "execution_count": null,
      "outputs": []
    },
    {
      "cell_type": "code",
      "metadata": {
        "id": "5AAxIwylSFsk"
      },
      "source": [
        "# we will be using sample datasets in sklearn\n",
        "from sklearn import datasets\n",
        "from collections import Counter\n",
        "import pandas as pd\n",
        "\n",
        "# autocluster functionalities\n",
        "import autocluster\n",
        "from autocluster import AutoCluster, get_evaluator"
      ],
      "execution_count": null,
      "outputs": []
    },
    {
      "cell_type": "code",
      "metadata": {
        "colab": {
          "base_uri": "https://localhost:8080/",
          "height": 206
        },
        "id": "pdrDFRdmSMmF",
        "outputId": "16a4bcde-f781-4833-a2d5-f790c887fd5e"
      },
      "source": [
        "'''X, y = datasets.make_blobs(n_samples=5000, \n",
        "                           n_features=2, \n",
        "                           centers=100, \n",
        "                           cluster_std=0.4, \n",
        "                           shuffle=True, random_state=27)'''\n",
        "\n",
        "dummy_df = pd.DataFrame(X)\n",
        "dummy_df.head(5)"
      ],
      "execution_count": null,
      "outputs": [
        {
          "output_type": "execute_result",
          "data": {
            "text/html": [
              "<div>\n",
              "<style scoped>\n",
              "    .dataframe tbody tr th:only-of-type {\n",
              "        vertical-align: middle;\n",
              "    }\n",
              "\n",
              "    .dataframe tbody tr th {\n",
              "        vertical-align: top;\n",
              "    }\n",
              "\n",
              "    .dataframe thead th {\n",
              "        text-align: right;\n",
              "    }\n",
              "</style>\n",
              "<table border=\"1\" class=\"dataframe\">\n",
              "  <thead>\n",
              "    <tr style=\"text-align: right;\">\n",
              "      <th></th>\n",
              "      <th>0</th>\n",
              "      <th>1</th>\n",
              "    </tr>\n",
              "  </thead>\n",
              "  <tbody>\n",
              "    <tr>\n",
              "      <th>0</th>\n",
              "      <td>2.000000</td>\n",
              "      <td>3.000000</td>\n",
              "    </tr>\n",
              "    <tr>\n",
              "      <th>1</th>\n",
              "      <td>0.387577</td>\n",
              "      <td>0.268546</td>\n",
              "    </tr>\n",
              "    <tr>\n",
              "      <th>2</th>\n",
              "      <td>0.176780</td>\n",
              "      <td>0.582963</td>\n",
              "    </tr>\n",
              "    <tr>\n",
              "      <th>3</th>\n",
              "      <td>3.277701</td>\n",
              "      <td>0.814082</td>\n",
              "    </tr>\n",
              "    <tr>\n",
              "      <th>4</th>\n",
              "      <td>0.387577</td>\n",
              "      <td>0.176780</td>\n",
              "    </tr>\n",
              "  </tbody>\n",
              "</table>\n",
              "</div>"
            ],
            "text/plain": [
              "          0         1\n",
              "0  2.000000  3.000000\n",
              "1  0.387577  0.268546\n",
              "2  0.176780  0.582963\n",
              "3  3.277701  0.814082\n",
              "4  0.387577  0.176780"
            ]
          },
          "metadata": {
            "tags": []
          },
          "execution_count": 37
        }
      ]
    },
    {
      "cell_type": "code",
      "metadata": {
        "colab": {
          "base_uri": "https://localhost:8080/"
        },
        "id": "lIXr0xbYSXGJ",
        "outputId": "1b6025bd-56a4-4fc6-f3ab-449db97860a3"
      },
      "source": [
        "# 'TSNE', 'PCA', 'IncrementalPCA', \n",
        "        # 'KernelPCA', 'FastICA', 'TruncatedSVD'\n",
        "cluster = AutoCluster(logger=None)\n",
        "fit_params = {\n",
        "    \"df\": dummy_df, \n",
        "    \"cluster_alg_ls\": [\n",
        "         'DBSCAN','OPTICS','KMeans', 'Birch', 'SpectralClustering'\n",
        "    ], \n",
        "    \"dim_reduction_alg_ls\": [\n",
        "        \n",
        "    ],\n",
        "    \"optimizer\": 'smac',\n",
        "    \"n_evaluations\": 400,\n",
        "    \"run_obj\": 'quality',\n",
        "    \"seed\": 27,\n",
        "    \"cutoff_time\": 100,\n",
        "    \"preprocess_dict\": {\n",
        "        \"numeric_cols\": list(range(2)),\n",
        "        \"categorical_cols\": [],\n",
        "        \"ordinal_cols\": [],\n",
        "        \"y_col\": []\n",
        "    },\n",
        "    \"evaluator\": get_evaluator(evaluator_ls = ['silhouetteScore', \n",
        "                                               'daviesBouldinScore', \n",
        "                                               'calinskiHarabaszScore'], \n",
        "                               weights = [1, 1, 1], \n",
        "                               clustering_num = None, \n",
        "                               min_proportion = .01, \n",
        "                               min_relative_proportion='default'),\n",
        "    \"n_folds\": 3,\n",
        "    \"warmstart\": False,\n",
        "    \"verbose_level\": 1,\n",
        "}\n",
        "result_dict = cluster.fit(**fit_params)"
      ],
      "execution_count": null,
      "outputs": [
        {
          "output_type": "stream",
          "text": [
            "238/403 datapoints remaining after outlier removal\n",
            "Configuration space object:\n",
            "  Hyperparameters:\n",
            "    affinity___SpectralClustering, Type: Categorical, Choices: {nearest_neighbors, poly, sigmoid, laplacian, rbf}, Default: rbf\n",
            "    assign_labels___SpectralClustering, Type: Categorical, Choices: {kmeans, discretize}, Default: kmeans\n",
            "    branching_factor___Birch, Type: UniformInteger, Range: [10, 1000], Default: 50\n",
            "    cluster_method___OPTICS, Type: Categorical, Choices: {xi, dbscan}, Default: xi\n",
            "    clustering_choice, Type: Categorical, Choices: {DBSCAN, OPTICS, KMeans, Birch, SpectralClustering}, Default: DBSCAN\n",
            "    eigen_solver___SpectralClustering, Type: Categorical, Choices: {arpack}, Default: arpack\n",
            "    eps___DBSCAN, Type: UniformFloat, Range: [0.01, 5.0], Default: 0.01\n",
            "    metric___OPTICS, Type: Categorical, Choices: {minkowski, euclidean, manhattan, l1, l2, cosine}, Default: minkowski\n",
            "    min_samples___DBSCAN, Type: UniformInteger, Range: [5, 100], Default: 5\n",
            "    min_samples___OPTICS, Type: UniformInteger, Range: [5, 1000], Default: 100\n",
            "    n_clusters___Birch, Type: UniformInteger, Range: [1, 80], Default: 5\n",
            "    n_clusters___KMeans, Type: UniformInteger, Range: [1, 80], Default: 5\n",
            "    n_clusters___SpectralClustering, Type: UniformInteger, Range: [1, 80], Default: 10\n",
            "  Conditions:\n",
            "    affinity___SpectralClustering | clustering_choice in {'SpectralClustering'}\n",
            "    assign_labels___SpectralClustering | clustering_choice in {'SpectralClustering'}\n",
            "    branching_factor___Birch | clustering_choice in {'Birch'}\n",
            "    cluster_method___OPTICS | clustering_choice in {'OPTICS'}\n",
            "    eigen_solver___SpectralClustering | clustering_choice in {'SpectralClustering'}\n",
            "    eps___DBSCAN | clustering_choice in {'DBSCAN'}\n",
            "    metric___OPTICS | clustering_choice in {'OPTICS'}\n",
            "    min_samples___DBSCAN | clustering_choice in {'DBSCAN'}\n",
            "    min_samples___OPTICS | clustering_choice in {'OPTICS'}\n",
            "    n_clusters___Birch | clustering_choice in {'Birch'}\n",
            "    n_clusters___KMeans | clustering_choice in {'KMeans'}\n",
            "    n_clusters___SpectralClustering | clustering_choice in {'SpectralClustering'}\n",
            "\n",
            "Truncated n_evaluations: 80\n",
            "{'run_obj': 'quality', 'runcount-limit': 80, 'cutoff_time': 100, 'cs': Configuration space object:\n",
            "  Hyperparameters:\n",
            "    affinity___SpectralClustering, Type: Categorical, Choices: {nearest_neighbors, poly, sigmoid, laplacian, rbf}, Default: rbf\n",
            "    assign_labels___SpectralClustering, Type: Categorical, Choices: {kmeans, discretize}, Default: kmeans\n",
            "    branching_factor___Birch, Type: UniformInteger, Range: [10, 1000], Default: 50\n",
            "    cluster_method___OPTICS, Type: Categorical, Choices: {xi, dbscan}, Default: xi\n",
            "    clustering_choice, Type: Categorical, Choices: {DBSCAN, OPTICS, KMeans, Birch, SpectralClustering}, Default: DBSCAN\n",
            "    eigen_solver___SpectralClustering, Type: Categorical, Choices: {arpack}, Default: arpack\n",
            "    eps___DBSCAN, Type: UniformFloat, Range: [0.01, 5.0], Default: 0.01\n",
            "    metric___OPTICS, Type: Categorical, Choices: {minkowski, euclidean, manhattan, l1, l2, cosine}, Default: minkowski\n",
            "    min_samples___DBSCAN, Type: UniformInteger, Range: [5, 100], Default: 5\n",
            "    min_samples___OPTICS, Type: UniformInteger, Range: [5, 1000], Default: 100\n",
            "    n_clusters___Birch, Type: UniformInteger, Range: [1, 80], Default: 5\n",
            "    n_clusters___KMeans, Type: UniformInteger, Range: [1, 80], Default: 5\n",
            "    n_clusters___SpectralClustering, Type: UniformInteger, Range: [1, 80], Default: 10\n",
            "  Conditions:\n",
            "    affinity___SpectralClustering | clustering_choice in {'SpectralClustering'}\n",
            "    assign_labels___SpectralClustering | clustering_choice in {'SpectralClustering'}\n",
            "    branching_factor___Birch | clustering_choice in {'Birch'}\n",
            "    cluster_method___OPTICS | clustering_choice in {'OPTICS'}\n",
            "    eigen_solver___SpectralClustering | clustering_choice in {'SpectralClustering'}\n",
            "    eps___DBSCAN | clustering_choice in {'DBSCAN'}\n",
            "    metric___OPTICS | clustering_choice in {'OPTICS'}\n",
            "    min_samples___DBSCAN | clustering_choice in {'DBSCAN'}\n",
            "    min_samples___OPTICS | clustering_choice in {'OPTICS'}\n",
            "    n_clusters___Birch | clustering_choice in {'Birch'}\n",
            "    n_clusters___KMeans | clustering_choice in {'KMeans'}\n",
            "    n_clusters___SpectralClustering | clustering_choice in {'SpectralClustering'}\n",
            ", 'deterministic': 'true', 'output_dir': 'log//smac-2021-05-28_23-46-47-49842', 'abort_on_first_run_crash': False}\n",
            "Fitting configuration: \n",
            "{'clustering_choice': 'DBSCAN', 'eps___DBSCAN': 0.01, 'min_samples___DBSCAN': 5}\n",
            "Score obtained by this configuration: inf\n"
          ],
          "name": "stdout"
        },
        {
          "output_type": "stream",
          "text": [
            "WARNING:smac.tae.execute_func.ExecuteTAFuncDict:Target Algorithm returned NaN or inf as quality. Algorithm run is treated as CRASHED, cost is set to 2147483647.0 for quality scenarios. (Change value through \"cost_for_crash\"-option.)\n"
          ],
          "name": "stderr"
        },
        {
          "output_type": "stream",
          "text": [
            "Fitting configuration: \n",
            "{'clustering_choice': 'Birch', 'branching_factor___Birch': 139, 'n_clusters___Birch': 54}\n"
          ],
          "name": "stdout"
        },
        {
          "output_type": "stream",
          "text": [
            "/usr/local/lib/python3.7/dist-packages/sklearn/cluster/birch.py:627: ConvergenceWarning: Number of subclusters found (7) by Birch is less than (54). Decrease the threshold.\n",
            "  % (len(centroids), self.n_clusters), ConvergenceWarning)\n",
            "/usr/local/lib/python3.7/dist-packages/sklearn/cluster/birch.py:627: ConvergenceWarning: Number of subclusters found (6) by Birch is less than (54). Decrease the threshold.\n",
            "  % (len(centroids), self.n_clusters), ConvergenceWarning)\n",
            "/usr/local/lib/python3.7/dist-packages/sklearn/cluster/birch.py:627: ConvergenceWarning: Number of subclusters found (7) by Birch is less than (54). Decrease the threshold.\n",
            "  % (len(centroids), self.n_clusters), ConvergenceWarning)\n",
            "/usr/local/lib/python3.7/dist-packages/sklearn/cluster/birch.py:627: ConvergenceWarning: Number of subclusters found (7) by Birch is less than (54). Decrease the threshold.\n",
            "  % (len(centroids), self.n_clusters), ConvergenceWarning)\n",
            "/usr/local/lib/python3.7/dist-packages/sklearn/cluster/birch.py:627: ConvergenceWarning: Number of subclusters found (7) by Birch is less than (54). Decrease the threshold.\n",
            "  % (len(centroids), self.n_clusters), ConvergenceWarning)\n",
            "/usr/local/lib/python3.7/dist-packages/sklearn/cluster/birch.py:627: ConvergenceWarning: Number of subclusters found (6) by Birch is less than (54). Decrease the threshold.\n",
            "  % (len(centroids), self.n_clusters), ConvergenceWarning)\n"
          ],
          "name": "stderr"
        },
        {
          "output_type": "stream",
          "text": [
            "Score obtained by this configuration: inf\n"
          ],
          "name": "stdout"
        },
        {
          "output_type": "stream",
          "text": [
            "WARNING:smac.tae.execute_func.ExecuteTAFuncDict:Target Algorithm returned NaN or inf as quality. Algorithm run is treated as CRASHED, cost is set to 2147483647.0 for quality scenarios. (Change value through \"cost_for_crash\"-option.)\n"
          ],
          "name": "stderr"
        },
        {
          "output_type": "stream",
          "text": [
            "Fitting configuration: \n",
            "{'clustering_choice': 'DBSCAN', 'eps___DBSCAN': 2.7557765108789174, 'min_samples___DBSCAN': 58}\n",
            "Score obtained by this configuration: inf\n"
          ],
          "name": "stdout"
        },
        {
          "output_type": "stream",
          "text": [
            "WARNING:smac.tae.execute_func.ExecuteTAFuncDict:Target Algorithm returned NaN or inf as quality. Algorithm run is treated as CRASHED, cost is set to 2147483647.0 for quality scenarios. (Change value through \"cost_for_crash\"-option.)\n"
          ],
          "name": "stderr"
        },
        {
          "output_type": "stream",
          "text": [
            "Fitting configuration: \n",
            "{'clustering_choice': 'DBSCAN', 'eps___DBSCAN': 2.336972639976693, 'min_samples___DBSCAN': 85}\n",
            "Score obtained by this configuration: inf\n"
          ],
          "name": "stdout"
        },
        {
          "output_type": "stream",
          "text": [
            "WARNING:smac.tae.execute_func.ExecuteTAFuncDict:Target Algorithm returned NaN or inf as quality. Algorithm run is treated as CRASHED, cost is set to 2147483647.0 for quality scenarios. (Change value through \"cost_for_crash\"-option.)\n"
          ],
          "name": "stderr"
        },
        {
          "output_type": "stream",
          "text": [
            "Fitting configuration: \n",
            "{'clustering_choice': 'SpectralClustering', 'affinity___SpectralClustering': 'laplacian', 'assign_labels___SpectralClustering': 'kmeans', 'eigen_solver___SpectralClustering': 'arpack', 'n_clusters___SpectralClustering': 27}\n",
            "Score obtained by this configuration: 0.32559428192611795\n",
            "Fitting configuration: \n",
            "{'clustering_choice': 'DBSCAN', 'eps___DBSCAN': 3.1281994787237264, 'min_samples___DBSCAN': 46}\n",
            "Score obtained by this configuration: inf\n"
          ],
          "name": "stdout"
        },
        {
          "output_type": "stream",
          "text": [
            "WARNING:smac.tae.execute_func.ExecuteTAFuncDict:Target Algorithm returned NaN or inf as quality. Algorithm run is treated as CRASHED, cost is set to 2147483647.0 for quality scenarios. (Change value through \"cost_for_crash\"-option.)\n"
          ],
          "name": "stderr"
        },
        {
          "output_type": "stream",
          "text": [
            "Fitting configuration: \n",
            "{'clustering_choice': 'DBSCAN', 'eps___DBSCAN': 0.9830027430011568, 'min_samples___DBSCAN': 94}\n",
            "Score obtained by this configuration: inf\n"
          ],
          "name": "stdout"
        },
        {
          "output_type": "stream",
          "text": [
            "WARNING:smac.tae.execute_func.ExecuteTAFuncDict:Target Algorithm returned NaN or inf as quality. Algorithm run is treated as CRASHED, cost is set to 2147483647.0 for quality scenarios. (Change value through \"cost_for_crash\"-option.)\n"
          ],
          "name": "stderr"
        },
        {
          "output_type": "stream",
          "text": [
            "Fitting configuration: \n",
            "{'clustering_choice': 'DBSCAN', 'eps___DBSCAN': 3.650696479783209, 'min_samples___DBSCAN': 11}\n",
            "Score obtained by this configuration: inf\n"
          ],
          "name": "stdout"
        },
        {
          "output_type": "stream",
          "text": [
            "WARNING:smac.tae.execute_func.ExecuteTAFuncDict:Target Algorithm returned NaN or inf as quality. Algorithm run is treated as CRASHED, cost is set to 2147483647.0 for quality scenarios. (Change value through \"cost_for_crash\"-option.)\n"
          ],
          "name": "stderr"
        },
        {
          "output_type": "stream",
          "text": [
            "Fitting configuration: \n",
            "{'clustering_choice': 'OPTICS', 'cluster_method___OPTICS': 'xi', 'metric___OPTICS': 'l2', 'min_samples___OPTICS': 496}\n"
          ],
          "name": "stdout"
        },
        {
          "output_type": "stream",
          "text": [
            "Process pynisher function call:\n",
            "Traceback (most recent call last):\n",
            "  File \"/usr/lib/python3.7/multiprocessing/process.py\", line 297, in _bootstrap\n",
            "    self.run()\n",
            "  File \"/usr/lib/python3.7/multiprocessing/process.py\", line 99, in run\n",
            "    self._target(*self._args, **self._kwargs)\n",
            "  File \"/usr/local/lib/python3.7/dist-packages/pynisher/limit_function_call.py\", line 133, in subprocess_func\n",
            "    return_value = ((func(*args, **kwargs), 0))\n",
            "  File \"/usr/local/lib/python3.7/dist-packages/autocluster/autocluster.py\", line 259, in evaluate_model\n",
            "    scaler, dim_reduction_model, clustering_model = fit_models(cfg, train_data)\n",
            "  File \"/usr/local/lib/python3.7/dist-packages/autocluster/autocluster.py\", line 227, in fit_models\n",
            "    clustering_model.fit(compressed_data)\n",
            "  File \"/usr/local/lib/python3.7/dist-packages/sklearn/cluster/optics_.py\", line 248, in fit\n",
            "    max_eps=self.max_eps)\n",
            "  File \"/usr/local/lib/python3.7/dist-packages/sklearn/cluster/optics_.py\", line 438, in compute_optics_graph\n",
            "    _validate_size(min_samples, n_samples, 'min_samples')\n",
            "  File \"/usr/local/lib/python3.7/dist-packages/sklearn/cluster/optics_.py\", line 290, in _validate_size\n",
            "    (param_name, n_samples, size))\n",
            "ValueError: min_samples must be no greater than the number of samples (158). Got 496\n"
          ],
          "name": "stderr"
        },
        {
          "output_type": "stream",
          "text": [
            "Fitting configuration: \n",
            "{'clustering_choice': 'OPTICS', 'cluster_method___OPTICS': 'xi', 'metric___OPTICS': 'l1', 'min_samples___OPTICS': 197}\n"
          ],
          "name": "stdout"
        },
        {
          "output_type": "stream",
          "text": [
            "Process pynisher function call:\n",
            "Traceback (most recent call last):\n",
            "  File \"/usr/lib/python3.7/multiprocessing/process.py\", line 297, in _bootstrap\n",
            "    self.run()\n",
            "  File \"/usr/lib/python3.7/multiprocessing/process.py\", line 99, in run\n",
            "    self._target(*self._args, **self._kwargs)\n",
            "  File \"/usr/local/lib/python3.7/dist-packages/pynisher/limit_function_call.py\", line 133, in subprocess_func\n",
            "    return_value = ((func(*args, **kwargs), 0))\n",
            "  File \"/usr/local/lib/python3.7/dist-packages/autocluster/autocluster.py\", line 259, in evaluate_model\n",
            "    scaler, dim_reduction_model, clustering_model = fit_models(cfg, train_data)\n",
            "  File \"/usr/local/lib/python3.7/dist-packages/autocluster/autocluster.py\", line 227, in fit_models\n",
            "    clustering_model.fit(compressed_data)\n",
            "  File \"/usr/local/lib/python3.7/dist-packages/sklearn/cluster/optics_.py\", line 248, in fit\n",
            "    max_eps=self.max_eps)\n",
            "  File \"/usr/local/lib/python3.7/dist-packages/sklearn/cluster/optics_.py\", line 438, in compute_optics_graph\n",
            "    _validate_size(min_samples, n_samples, 'min_samples')\n",
            "  File \"/usr/local/lib/python3.7/dist-packages/sklearn/cluster/optics_.py\", line 290, in _validate_size\n",
            "    (param_name, n_samples, size))\n",
            "ValueError: min_samples must be no greater than the number of samples (158). Got 197\n"
          ],
          "name": "stderr"
        },
        {
          "output_type": "stream",
          "text": [
            "Fitting configuration: \n",
            "{'clustering_choice': 'KMeans', 'n_clusters___KMeans': 2}\n",
            "Score obtained by this configuration: 0.3102254871905719\n",
            "Fitting configuration: \n",
            "{'clustering_choice': 'SpectralClustering', 'affinity___SpectralClustering': 'rbf', 'assign_labels___SpectralClustering': 'discretize', 'eigen_solver___SpectralClustering': 'arpack', 'n_clusters___SpectralClustering': 48}\n",
            "Score obtained by this configuration: 0.3462589811923107\n",
            "Fitting configuration: \n",
            "{'clustering_choice': 'OPTICS', 'cluster_method___OPTICS': 'xi', 'metric___OPTICS': 'euclidean', 'min_samples___OPTICS': 213}\n"
          ],
          "name": "stdout"
        },
        {
          "output_type": "stream",
          "text": [
            "Process pynisher function call:\n",
            "Traceback (most recent call last):\n",
            "  File \"/usr/lib/python3.7/multiprocessing/process.py\", line 297, in _bootstrap\n",
            "    self.run()\n",
            "  File \"/usr/lib/python3.7/multiprocessing/process.py\", line 99, in run\n",
            "    self._target(*self._args, **self._kwargs)\n",
            "  File \"/usr/local/lib/python3.7/dist-packages/pynisher/limit_function_call.py\", line 133, in subprocess_func\n",
            "    return_value = ((func(*args, **kwargs), 0))\n",
            "  File \"/usr/local/lib/python3.7/dist-packages/autocluster/autocluster.py\", line 259, in evaluate_model\n",
            "    scaler, dim_reduction_model, clustering_model = fit_models(cfg, train_data)\n",
            "  File \"/usr/local/lib/python3.7/dist-packages/autocluster/autocluster.py\", line 227, in fit_models\n",
            "    clustering_model.fit(compressed_data)\n",
            "  File \"/usr/local/lib/python3.7/dist-packages/sklearn/cluster/optics_.py\", line 248, in fit\n",
            "    max_eps=self.max_eps)\n",
            "  File \"/usr/local/lib/python3.7/dist-packages/sklearn/cluster/optics_.py\", line 438, in compute_optics_graph\n",
            "    _validate_size(min_samples, n_samples, 'min_samples')\n",
            "  File \"/usr/local/lib/python3.7/dist-packages/sklearn/cluster/optics_.py\", line 290, in _validate_size\n",
            "    (param_name, n_samples, size))\n",
            "ValueError: min_samples must be no greater than the number of samples (158). Got 213\n"
          ],
          "name": "stderr"
        },
        {
          "output_type": "stream",
          "text": [
            "Fitting configuration: \n",
            "{'clustering_choice': 'KMeans', 'n_clusters___KMeans': 46}\n",
            "Score obtained by this configuration: 0.2250822768714781\n",
            "Fitting configuration: \n",
            "{'clustering_choice': 'OPTICS', 'cluster_method___OPTICS': 'xi', 'metric___OPTICS': 'l1', 'min_samples___OPTICS': 537}\n"
          ],
          "name": "stdout"
        },
        {
          "output_type": "stream",
          "text": [
            "Process pynisher function call:\n",
            "Traceback (most recent call last):\n",
            "  File \"/usr/lib/python3.7/multiprocessing/process.py\", line 297, in _bootstrap\n",
            "    self.run()\n",
            "  File \"/usr/lib/python3.7/multiprocessing/process.py\", line 99, in run\n",
            "    self._target(*self._args, **self._kwargs)\n",
            "  File \"/usr/local/lib/python3.7/dist-packages/pynisher/limit_function_call.py\", line 133, in subprocess_func\n",
            "    return_value = ((func(*args, **kwargs), 0))\n",
            "  File \"/usr/local/lib/python3.7/dist-packages/autocluster/autocluster.py\", line 259, in evaluate_model\n",
            "    scaler, dim_reduction_model, clustering_model = fit_models(cfg, train_data)\n",
            "  File \"/usr/local/lib/python3.7/dist-packages/autocluster/autocluster.py\", line 227, in fit_models\n",
            "    clustering_model.fit(compressed_data)\n",
            "  File \"/usr/local/lib/python3.7/dist-packages/sklearn/cluster/optics_.py\", line 248, in fit\n",
            "    max_eps=self.max_eps)\n",
            "  File \"/usr/local/lib/python3.7/dist-packages/sklearn/cluster/optics_.py\", line 438, in compute_optics_graph\n",
            "    _validate_size(min_samples, n_samples, 'min_samples')\n",
            "  File \"/usr/local/lib/python3.7/dist-packages/sklearn/cluster/optics_.py\", line 290, in _validate_size\n",
            "    (param_name, n_samples, size))\n",
            "ValueError: min_samples must be no greater than the number of samples (158). Got 537\n"
          ],
          "name": "stderr"
        },
        {
          "output_type": "stream",
          "text": [
            "Fitting configuration: \n",
            "{'clustering_choice': 'SpectralClustering', 'affinity___SpectralClustering': 'nearest_neighbors', 'assign_labels___SpectralClustering': 'kmeans', 'eigen_solver___SpectralClustering': 'arpack', 'n_clusters___SpectralClustering': 21}\n"
          ],
          "name": "stdout"
        },
        {
          "output_type": "stream",
          "text": [
            "/usr/local/lib/python3.7/dist-packages/sklearn/manifold/spectral_embedding_.py:235: UserWarning: Graph is not fully connected, spectral embedding may not work as expected.\n",
            "  warnings.warn(\"Graph is not fully connected, spectral embedding\"\n",
            "/usr/local/lib/python3.7/dist-packages/sklearn/manifold/spectral_embedding_.py:235: UserWarning: Graph is not fully connected, spectral embedding may not work as expected.\n",
            "  warnings.warn(\"Graph is not fully connected, spectral embedding\"\n",
            "/usr/local/lib/python3.7/dist-packages/sklearn/manifold/spectral_embedding_.py:235: UserWarning: Graph is not fully connected, spectral embedding may not work as expected.\n",
            "  warnings.warn(\"Graph is not fully connected, spectral embedding\"\n"
          ],
          "name": "stderr"
        },
        {
          "output_type": "stream",
          "text": [
            "Score obtained by this configuration: 0.3919916271400297\n",
            "Fitting configuration: \n",
            "{'clustering_choice': 'Birch', 'branching_factor___Birch': 509, 'n_clusters___Birch': 45}\n"
          ],
          "name": "stdout"
        },
        {
          "output_type": "stream",
          "text": [
            "/usr/local/lib/python3.7/dist-packages/sklearn/cluster/birch.py:627: ConvergenceWarning: Number of subclusters found (7) by Birch is less than (45). Decrease the threshold.\n",
            "  % (len(centroids), self.n_clusters), ConvergenceWarning)\n",
            "/usr/local/lib/python3.7/dist-packages/sklearn/cluster/birch.py:627: ConvergenceWarning: Number of subclusters found (6) by Birch is less than (45). Decrease the threshold.\n",
            "  % (len(centroids), self.n_clusters), ConvergenceWarning)\n",
            "/usr/local/lib/python3.7/dist-packages/sklearn/cluster/birch.py:627: ConvergenceWarning: Number of subclusters found (7) by Birch is less than (45). Decrease the threshold.\n",
            "  % (len(centroids), self.n_clusters), ConvergenceWarning)\n",
            "/usr/local/lib/python3.7/dist-packages/sklearn/cluster/birch.py:627: ConvergenceWarning: Number of subclusters found (7) by Birch is less than (45). Decrease the threshold.\n",
            "  % (len(centroids), self.n_clusters), ConvergenceWarning)\n",
            "/usr/local/lib/python3.7/dist-packages/sklearn/cluster/birch.py:627: ConvergenceWarning: Number of subclusters found (7) by Birch is less than (45). Decrease the threshold.\n",
            "  % (len(centroids), self.n_clusters), ConvergenceWarning)\n",
            "/usr/local/lib/python3.7/dist-packages/sklearn/cluster/birch.py:627: ConvergenceWarning: Number of subclusters found (6) by Birch is less than (45). Decrease the threshold.\n",
            "  % (len(centroids), self.n_clusters), ConvergenceWarning)\n"
          ],
          "name": "stderr"
        },
        {
          "output_type": "stream",
          "text": [
            "Score obtained by this configuration: inf\n"
          ],
          "name": "stdout"
        },
        {
          "output_type": "stream",
          "text": [
            "WARNING:smac.tae.execute_func.ExecuteTAFuncDict:Target Algorithm returned NaN or inf as quality. Algorithm run is treated as CRASHED, cost is set to 2147483647.0 for quality scenarios. (Change value through \"cost_for_crash\"-option.)\n"
          ],
          "name": "stderr"
        },
        {
          "output_type": "stream",
          "text": [
            "Fitting configuration: \n",
            "{'clustering_choice': 'KMeans', 'n_clusters___KMeans': 45}\n",
            "Score obtained by this configuration: 0.2266691132125849\n",
            "Fitting configuration: \n",
            "{'clustering_choice': 'SpectralClustering', 'affinity___SpectralClustering': 'nearest_neighbors', 'assign_labels___SpectralClustering': 'kmeans', 'eigen_solver___SpectralClustering': 'arpack', 'n_clusters___SpectralClustering': 27}\n"
          ],
          "name": "stdout"
        },
        {
          "output_type": "stream",
          "text": [
            "/usr/local/lib/python3.7/dist-packages/sklearn/manifold/spectral_embedding_.py:235: UserWarning: Graph is not fully connected, spectral embedding may not work as expected.\n",
            "  warnings.warn(\"Graph is not fully connected, spectral embedding\"\n",
            "/usr/local/lib/python3.7/dist-packages/sklearn/manifold/spectral_embedding_.py:235: UserWarning: Graph is not fully connected, spectral embedding may not work as expected.\n",
            "  warnings.warn(\"Graph is not fully connected, spectral embedding\"\n",
            "/usr/local/lib/python3.7/dist-packages/sklearn/manifold/spectral_embedding_.py:235: UserWarning: Graph is not fully connected, spectral embedding may not work as expected.\n",
            "  warnings.warn(\"Graph is not fully connected, spectral embedding\"\n"
          ],
          "name": "stderr"
        },
        {
          "output_type": "stream",
          "text": [
            "Score obtained by this configuration: 0.4613506620725571\n",
            "Fitting configuration: \n",
            "{'clustering_choice': 'KMeans', 'n_clusters___KMeans': 33}\n",
            "Score obtained by this configuration: 0.2431209600457791\n",
            "Fitting configuration: \n",
            "{'clustering_choice': 'SpectralClustering', 'affinity___SpectralClustering': 'rbf', 'assign_labels___SpectralClustering': 'kmeans', 'eigen_solver___SpectralClustering': 'arpack', 'n_clusters___SpectralClustering': 57}\n",
            "Score obtained by this configuration: 0.3146834711613808\n",
            "Fitting configuration: \n",
            "{'clustering_choice': 'KMeans', 'n_clusters___KMeans': 56}\n",
            "Score obtained by this configuration: 0.1997416811746251\n",
            "Fitting configuration: \n",
            "{'clustering_choice': 'OPTICS', 'cluster_method___OPTICS': 'dbscan', 'metric___OPTICS': 'cosine', 'min_samples___OPTICS': 218}\n"
          ],
          "name": "stdout"
        },
        {
          "output_type": "stream",
          "text": [
            "Process pynisher function call:\n",
            "Traceback (most recent call last):\n",
            "  File \"/usr/lib/python3.7/multiprocessing/process.py\", line 297, in _bootstrap\n",
            "    self.run()\n",
            "  File \"/usr/lib/python3.7/multiprocessing/process.py\", line 99, in run\n",
            "    self._target(*self._args, **self._kwargs)\n",
            "  File \"/usr/local/lib/python3.7/dist-packages/pynisher/limit_function_call.py\", line 133, in subprocess_func\n",
            "    return_value = ((func(*args, **kwargs), 0))\n",
            "  File \"/usr/local/lib/python3.7/dist-packages/autocluster/autocluster.py\", line 259, in evaluate_model\n",
            "    scaler, dim_reduction_model, clustering_model = fit_models(cfg, train_data)\n",
            "  File \"/usr/local/lib/python3.7/dist-packages/autocluster/autocluster.py\", line 227, in fit_models\n",
            "    clustering_model.fit(compressed_data)\n",
            "  File \"/usr/local/lib/python3.7/dist-packages/sklearn/cluster/optics_.py\", line 248, in fit\n",
            "    max_eps=self.max_eps)\n",
            "  File \"/usr/local/lib/python3.7/dist-packages/sklearn/cluster/optics_.py\", line 438, in compute_optics_graph\n",
            "    _validate_size(min_samples, n_samples, 'min_samples')\n",
            "  File \"/usr/local/lib/python3.7/dist-packages/sklearn/cluster/optics_.py\", line 290, in _validate_size\n",
            "    (param_name, n_samples, size))\n",
            "ValueError: min_samples must be no greater than the number of samples (158). Got 218\n"
          ],
          "name": "stderr"
        },
        {
          "output_type": "stream",
          "text": [
            "Fitting configuration: \n",
            "{'clustering_choice': 'SpectralClustering', 'affinity___SpectralClustering': 'sigmoid', 'assign_labels___SpectralClustering': 'discretize', 'eigen_solver___SpectralClustering': 'arpack', 'n_clusters___SpectralClustering': 6}\n",
            "Score obtained by this configuration: 0.49363482529346375\n",
            "Fitting configuration: \n",
            "{'clustering_choice': 'DBSCAN', 'eps___DBSCAN': 3.1507128241980533, 'min_samples___DBSCAN': 5}\n",
            "Score obtained by this configuration: inf\n"
          ],
          "name": "stdout"
        },
        {
          "output_type": "stream",
          "text": [
            "WARNING:smac.tae.execute_func.ExecuteTAFuncDict:Target Algorithm returned NaN or inf as quality. Algorithm run is treated as CRASHED, cost is set to 2147483647.0 for quality scenarios. (Change value through \"cost_for_crash\"-option.)\n"
          ],
          "name": "stderr"
        },
        {
          "output_type": "stream",
          "text": [
            "Fitting configuration: \n",
            "{'clustering_choice': 'DBSCAN', 'eps___DBSCAN': 0.5719581631505459, 'min_samples___DBSCAN': 83}\n",
            "Score obtained by this configuration: inf\n"
          ],
          "name": "stdout"
        },
        {
          "output_type": "stream",
          "text": [
            "WARNING:smac.tae.execute_func.ExecuteTAFuncDict:Target Algorithm returned NaN or inf as quality. Algorithm run is treated as CRASHED, cost is set to 2147483647.0 for quality scenarios. (Change value through \"cost_for_crash\"-option.)\n"
          ],
          "name": "stderr"
        },
        {
          "output_type": "stream",
          "text": [
            "Fitting configuration: \n",
            "{'clustering_choice': 'DBSCAN', 'eps___DBSCAN': 3.478160876098315, 'min_samples___DBSCAN': 20}\n",
            "Score obtained by this configuration: inf\n"
          ],
          "name": "stdout"
        },
        {
          "output_type": "stream",
          "text": [
            "WARNING:smac.tae.execute_func.ExecuteTAFuncDict:Target Algorithm returned NaN or inf as quality. Algorithm run is treated as CRASHED, cost is set to 2147483647.0 for quality scenarios. (Change value through \"cost_for_crash\"-option.)\n"
          ],
          "name": "stderr"
        },
        {
          "output_type": "stream",
          "text": [
            "Fitting configuration: \n",
            "{'clustering_choice': 'DBSCAN', 'eps___DBSCAN': 0.12951633639942556, 'min_samples___DBSCAN': 82}\n",
            "Score obtained by this configuration: inf\n"
          ],
          "name": "stdout"
        },
        {
          "output_type": "stream",
          "text": [
            "WARNING:smac.tae.execute_func.ExecuteTAFuncDict:Target Algorithm returned NaN or inf as quality. Algorithm run is treated as CRASHED, cost is set to 2147483647.0 for quality scenarios. (Change value through \"cost_for_crash\"-option.)\n"
          ],
          "name": "stderr"
        },
        {
          "output_type": "stream",
          "text": [
            "Fitting configuration: \n",
            "{'clustering_choice': 'SpectralClustering', 'affinity___SpectralClustering': 'rbf', 'assign_labels___SpectralClustering': 'discretize', 'eigen_solver___SpectralClustering': 'arpack', 'n_clusters___SpectralClustering': 8}\n",
            "Score obtained by this configuration: 0.29460607264914435\n",
            "Fitting configuration: \n",
            "{'clustering_choice': 'KMeans', 'n_clusters___KMeans': 61}\n",
            "Score obtained by this configuration: 0.19622924166281017\n",
            "Fitting configuration: \n",
            "{'clustering_choice': 'SpectralClustering', 'affinity___SpectralClustering': 'rbf', 'assign_labels___SpectralClustering': 'kmeans', 'eigen_solver___SpectralClustering': 'arpack', 'n_clusters___SpectralClustering': 18}\n",
            "Score obtained by this configuration: 0.34099862198454617\n",
            "Fitting configuration: \n",
            "{'clustering_choice': 'DBSCAN', 'eps___DBSCAN': 2.0464600942741553, 'min_samples___DBSCAN': 7}\n",
            "Score obtained by this configuration: inf\n"
          ],
          "name": "stdout"
        },
        {
          "output_type": "stream",
          "text": [
            "WARNING:smac.tae.execute_func.ExecuteTAFuncDict:Target Algorithm returned NaN or inf as quality. Algorithm run is treated as CRASHED, cost is set to 2147483647.0 for quality scenarios. (Change value through \"cost_for_crash\"-option.)\n"
          ],
          "name": "stderr"
        },
        {
          "output_type": "stream",
          "text": [
            "Fitting configuration: \n",
            "{'clustering_choice': 'KMeans', 'n_clusters___KMeans': 28}\n",
            "Score obtained by this configuration: 0.26309888724009073\n",
            "Fitting configuration: \n",
            "{'clustering_choice': 'OPTICS', 'cluster_method___OPTICS': 'dbscan', 'metric___OPTICS': 'manhattan', 'min_samples___OPTICS': 374}\n"
          ],
          "name": "stdout"
        },
        {
          "output_type": "stream",
          "text": [
            "Process pynisher function call:\n",
            "Traceback (most recent call last):\n",
            "  File \"/usr/lib/python3.7/multiprocessing/process.py\", line 297, in _bootstrap\n",
            "    self.run()\n",
            "  File \"/usr/lib/python3.7/multiprocessing/process.py\", line 99, in run\n",
            "    self._target(*self._args, **self._kwargs)\n",
            "  File \"/usr/local/lib/python3.7/dist-packages/pynisher/limit_function_call.py\", line 133, in subprocess_func\n",
            "    return_value = ((func(*args, **kwargs), 0))\n",
            "  File \"/usr/local/lib/python3.7/dist-packages/autocluster/autocluster.py\", line 259, in evaluate_model\n",
            "    scaler, dim_reduction_model, clustering_model = fit_models(cfg, train_data)\n",
            "  File \"/usr/local/lib/python3.7/dist-packages/autocluster/autocluster.py\", line 227, in fit_models\n",
            "    clustering_model.fit(compressed_data)\n",
            "  File \"/usr/local/lib/python3.7/dist-packages/sklearn/cluster/optics_.py\", line 248, in fit\n",
            "    max_eps=self.max_eps)\n",
            "  File \"/usr/local/lib/python3.7/dist-packages/sklearn/cluster/optics_.py\", line 438, in compute_optics_graph\n",
            "    _validate_size(min_samples, n_samples, 'min_samples')\n",
            "  File \"/usr/local/lib/python3.7/dist-packages/sklearn/cluster/optics_.py\", line 290, in _validate_size\n",
            "    (param_name, n_samples, size))\n",
            "ValueError: min_samples must be no greater than the number of samples (158). Got 374\n"
          ],
          "name": "stderr"
        },
        {
          "output_type": "stream",
          "text": [
            "Fitting configuration: \n",
            "{'clustering_choice': 'Birch', 'branching_factor___Birch': 74, 'n_clusters___Birch': 13}\n"
          ],
          "name": "stdout"
        },
        {
          "output_type": "stream",
          "text": [
            "/usr/local/lib/python3.7/dist-packages/sklearn/cluster/birch.py:627: ConvergenceWarning: Number of subclusters found (7) by Birch is less than (13). Decrease the threshold.\n",
            "  % (len(centroids), self.n_clusters), ConvergenceWarning)\n",
            "/usr/local/lib/python3.7/dist-packages/sklearn/cluster/birch.py:627: ConvergenceWarning: Number of subclusters found (6) by Birch is less than (13). Decrease the threshold.\n",
            "  % (len(centroids), self.n_clusters), ConvergenceWarning)\n",
            "/usr/local/lib/python3.7/dist-packages/sklearn/cluster/birch.py:627: ConvergenceWarning: Number of subclusters found (7) by Birch is less than (13). Decrease the threshold.\n",
            "  % (len(centroids), self.n_clusters), ConvergenceWarning)\n",
            "/usr/local/lib/python3.7/dist-packages/sklearn/cluster/birch.py:627: ConvergenceWarning: Number of subclusters found (7) by Birch is less than (13). Decrease the threshold.\n",
            "  % (len(centroids), self.n_clusters), ConvergenceWarning)\n",
            "/usr/local/lib/python3.7/dist-packages/sklearn/cluster/birch.py:627: ConvergenceWarning: Number of subclusters found (7) by Birch is less than (13). Decrease the threshold.\n",
            "  % (len(centroids), self.n_clusters), ConvergenceWarning)\n",
            "/usr/local/lib/python3.7/dist-packages/sklearn/cluster/birch.py:627: ConvergenceWarning: Number of subclusters found (6) by Birch is less than (13). Decrease the threshold.\n",
            "  % (len(centroids), self.n_clusters), ConvergenceWarning)\n"
          ],
          "name": "stderr"
        },
        {
          "output_type": "stream",
          "text": [
            "Score obtained by this configuration: inf\n"
          ],
          "name": "stdout"
        },
        {
          "output_type": "stream",
          "text": [
            "WARNING:smac.tae.execute_func.ExecuteTAFuncDict:Target Algorithm returned NaN or inf as quality. Algorithm run is treated as CRASHED, cost is set to 2147483647.0 for quality scenarios. (Change value through \"cost_for_crash\"-option.)\n"
          ],
          "name": "stderr"
        },
        {
          "output_type": "stream",
          "text": [
            "Fitting configuration: \n",
            "{'clustering_choice': 'OPTICS', 'cluster_method___OPTICS': 'xi', 'metric___OPTICS': 'euclidean', 'min_samples___OPTICS': 109}\n"
          ],
          "name": "stdout"
        },
        {
          "output_type": "stream",
          "text": [
            "Process pynisher function call:\n",
            "Traceback (most recent call last):\n",
            "  File \"/usr/lib/python3.7/multiprocessing/process.py\", line 297, in _bootstrap\n",
            "    self.run()\n",
            "  File \"/usr/lib/python3.7/multiprocessing/process.py\", line 99, in run\n",
            "    self._target(*self._args, **self._kwargs)\n",
            "  File \"/usr/local/lib/python3.7/dist-packages/pynisher/limit_function_call.py\", line 133, in subprocess_func\n",
            "    return_value = ((func(*args, **kwargs), 0))\n",
            "  File \"/usr/local/lib/python3.7/dist-packages/autocluster/autocluster.py\", line 272, in evaluate_model\n",
            "    y_pred = clustering_model.fit_predict(compressed_valid_data)\n",
            "  File \"/usr/local/lib/python3.7/dist-packages/sklearn/base.py\", line 447, in fit_predict\n",
            "    self.fit(X)\n",
            "  File \"/usr/local/lib/python3.7/dist-packages/sklearn/cluster/optics_.py\", line 248, in fit\n",
            "    max_eps=self.max_eps)\n",
            "  File \"/usr/local/lib/python3.7/dist-packages/sklearn/cluster/optics_.py\", line 438, in compute_optics_graph\n",
            "    _validate_size(min_samples, n_samples, 'min_samples')\n",
            "  File \"/usr/local/lib/python3.7/dist-packages/sklearn/cluster/optics_.py\", line 290, in _validate_size\n",
            "    (param_name, n_samples, size))\n",
            "ValueError: min_samples must be no greater than the number of samples (80). Got 109\n"
          ],
          "name": "stderr"
        },
        {
          "output_type": "stream",
          "text": [
            "Fitting configuration: \n",
            "{'clustering_choice': 'KMeans', 'n_clusters___KMeans': 25}\n",
            "Score obtained by this configuration: 0.279026829121608\n",
            "Fitting configuration: \n",
            "{'clustering_choice': 'DBSCAN', 'eps___DBSCAN': 1.9804213203915861, 'min_samples___DBSCAN': 12}\n",
            "Score obtained by this configuration: inf\n"
          ],
          "name": "stdout"
        },
        {
          "output_type": "stream",
          "text": [
            "WARNING:smac.tae.execute_func.ExecuteTAFuncDict:Target Algorithm returned NaN or inf as quality. Algorithm run is treated as CRASHED, cost is set to 2147483647.0 for quality scenarios. (Change value through \"cost_for_crash\"-option.)\n"
          ],
          "name": "stderr"
        },
        {
          "output_type": "stream",
          "text": [
            "Fitting configuration: \n",
            "{'clustering_choice': 'KMeans', 'n_clusters___KMeans': 26}\n",
            "Score obtained by this configuration: 0.2698528142738334\n",
            "Fitting configuration: \n",
            "{'clustering_choice': 'KMeans', 'n_clusters___KMeans': 49}\n",
            "Score obtained by this configuration: 0.21782101121298839\n",
            "Fitting configuration: \n",
            "{'clustering_choice': 'KMeans', 'n_clusters___KMeans': 54}\n",
            "Score obtained by this configuration: 0.20598154709737174\n",
            "Fitting configuration: \n",
            "{'clustering_choice': 'OPTICS', 'cluster_method___OPTICS': 'xi', 'metric___OPTICS': 'minkowski', 'min_samples___OPTICS': 954}\n"
          ],
          "name": "stdout"
        },
        {
          "output_type": "stream",
          "text": [
            "Process pynisher function call:\n",
            "Traceback (most recent call last):\n",
            "  File \"/usr/lib/python3.7/multiprocessing/process.py\", line 297, in _bootstrap\n",
            "    self.run()\n",
            "  File \"/usr/lib/python3.7/multiprocessing/process.py\", line 99, in run\n",
            "    self._target(*self._args, **self._kwargs)\n",
            "  File \"/usr/local/lib/python3.7/dist-packages/pynisher/limit_function_call.py\", line 133, in subprocess_func\n",
            "    return_value = ((func(*args, **kwargs), 0))\n",
            "  File \"/usr/local/lib/python3.7/dist-packages/autocluster/autocluster.py\", line 259, in evaluate_model\n",
            "    scaler, dim_reduction_model, clustering_model = fit_models(cfg, train_data)\n",
            "  File \"/usr/local/lib/python3.7/dist-packages/autocluster/autocluster.py\", line 227, in fit_models\n",
            "    clustering_model.fit(compressed_data)\n",
            "  File \"/usr/local/lib/python3.7/dist-packages/sklearn/cluster/optics_.py\", line 248, in fit\n",
            "    max_eps=self.max_eps)\n",
            "  File \"/usr/local/lib/python3.7/dist-packages/sklearn/cluster/optics_.py\", line 438, in compute_optics_graph\n",
            "    _validate_size(min_samples, n_samples, 'min_samples')\n",
            "  File \"/usr/local/lib/python3.7/dist-packages/sklearn/cluster/optics_.py\", line 290, in _validate_size\n",
            "    (param_name, n_samples, size))\n",
            "ValueError: min_samples must be no greater than the number of samples (158). Got 954\n"
          ],
          "name": "stderr"
        },
        {
          "output_type": "stream",
          "text": [
            "Fitting configuration: \n",
            "{'clustering_choice': 'KMeans', 'n_clusters___KMeans': 21}\n",
            "Score obtained by this configuration: 0.27553533800542956\n",
            "Fitting configuration: \n",
            "{'clustering_choice': 'DBSCAN', 'eps___DBSCAN': 3.407453594134401, 'min_samples___DBSCAN': 7}\n",
            "Score obtained by this configuration: inf\n"
          ],
          "name": "stdout"
        },
        {
          "output_type": "stream",
          "text": [
            "WARNING:smac.tae.execute_func.ExecuteTAFuncDict:Target Algorithm returned NaN or inf as quality. Algorithm run is treated as CRASHED, cost is set to 2147483647.0 for quality scenarios. (Change value through \"cost_for_crash\"-option.)\n"
          ],
          "name": "stderr"
        },
        {
          "output_type": "stream",
          "text": [
            "Fitting configuration: \n",
            "{'clustering_choice': 'KMeans', 'n_clusters___KMeans': 1}\n",
            "Score obtained by this configuration: inf\n"
          ],
          "name": "stdout"
        },
        {
          "output_type": "stream",
          "text": [
            "WARNING:smac.tae.execute_func.ExecuteTAFuncDict:Target Algorithm returned NaN or inf as quality. Algorithm run is treated as CRASHED, cost is set to 2147483647.0 for quality scenarios. (Change value through \"cost_for_crash\"-option.)\n"
          ],
          "name": "stderr"
        },
        {
          "output_type": "stream",
          "text": [
            "Fitting configuration: \n",
            "{'clustering_choice': 'DBSCAN', 'eps___DBSCAN': 4.106232222418921, 'min_samples___DBSCAN': 95}\n",
            "Score obtained by this configuration: inf\n"
          ],
          "name": "stdout"
        },
        {
          "output_type": "stream",
          "text": [
            "WARNING:smac.tae.execute_func.ExecuteTAFuncDict:Target Algorithm returned NaN or inf as quality. Algorithm run is treated as CRASHED, cost is set to 2147483647.0 for quality scenarios. (Change value through \"cost_for_crash\"-option.)\n"
          ],
          "name": "stderr"
        },
        {
          "output_type": "stream",
          "text": [
            "Fitting configuration: \n",
            "{'clustering_choice': 'KMeans', 'n_clusters___KMeans': 8}\n",
            "Score obtained by this configuration: 0.2985759727981599\n",
            "Fitting configuration: \n",
            "{'clustering_choice': 'SpectralClustering', 'affinity___SpectralClustering': 'laplacian', 'assign_labels___SpectralClustering': 'kmeans', 'eigen_solver___SpectralClustering': 'arpack', 'n_clusters___SpectralClustering': 15}\n",
            "Score obtained by this configuration: 0.3210610520039578\n",
            "Fitting configuration: \n",
            "{'clustering_choice': 'KMeans', 'n_clusters___KMeans': 40}\n",
            "Score obtained by this configuration: 0.23586967321960153\n",
            "Fitting configuration: \n",
            "{'clustering_choice': 'SpectralClustering', 'affinity___SpectralClustering': 'nearest_neighbors', 'assign_labels___SpectralClustering': 'kmeans', 'eigen_solver___SpectralClustering': 'arpack', 'n_clusters___SpectralClustering': 70}\n"
          ],
          "name": "stdout"
        },
        {
          "output_type": "stream",
          "text": [
            "/usr/local/lib/python3.7/dist-packages/sklearn/manifold/spectral_embedding_.py:235: UserWarning: Graph is not fully connected, spectral embedding may not work as expected.\n",
            "  warnings.warn(\"Graph is not fully connected, spectral embedding\"\n",
            "/usr/local/lib/python3.7/dist-packages/sklearn/manifold/spectral_embedding_.py:235: UserWarning: Graph is not fully connected, spectral embedding may not work as expected.\n",
            "  warnings.warn(\"Graph is not fully connected, spectral embedding\"\n",
            "/usr/local/lib/python3.7/dist-packages/sklearn/manifold/spectral_embedding_.py:235: UserWarning: Graph is not fully connected, spectral embedding may not work as expected.\n",
            "  warnings.warn(\"Graph is not fully connected, spectral embedding\"\n"
          ],
          "name": "stderr"
        },
        {
          "output_type": "stream",
          "text": [
            "Score obtained by this configuration: 0.4076393111393377\n",
            "Fitting configuration: \n",
            "{'clustering_choice': 'KMeans', 'n_clusters___KMeans': 7}\n",
            "Score obtained by this configuration: 0.2893673252612296\n",
            "Fitting configuration: \n",
            "{'clustering_choice': 'KMeans', 'n_clusters___KMeans': 4}\n",
            "Score obtained by this configuration: 0.22238346523532493\n",
            "Fitting configuration: \n",
            "{'clustering_choice': 'DBSCAN', 'eps___DBSCAN': 2.80132584306987, 'min_samples___DBSCAN': 60}\n",
            "Score obtained by this configuration: inf\n"
          ],
          "name": "stdout"
        },
        {
          "output_type": "stream",
          "text": [
            "WARNING:smac.tae.execute_func.ExecuteTAFuncDict:Target Algorithm returned NaN or inf as quality. Algorithm run is treated as CRASHED, cost is set to 2147483647.0 for quality scenarios. (Change value through \"cost_for_crash\"-option.)\n"
          ],
          "name": "stderr"
        },
        {
          "output_type": "stream",
          "text": [
            "Fitting configuration: \n",
            "{'clustering_choice': 'Birch', 'branching_factor___Birch': 155, 'n_clusters___Birch': 51}\n"
          ],
          "name": "stdout"
        },
        {
          "output_type": "stream",
          "text": [
            "/usr/local/lib/python3.7/dist-packages/sklearn/cluster/birch.py:627: ConvergenceWarning: Number of subclusters found (7) by Birch is less than (51). Decrease the threshold.\n",
            "  % (len(centroids), self.n_clusters), ConvergenceWarning)\n",
            "/usr/local/lib/python3.7/dist-packages/sklearn/cluster/birch.py:627: ConvergenceWarning: Number of subclusters found (6) by Birch is less than (51). Decrease the threshold.\n",
            "  % (len(centroids), self.n_clusters), ConvergenceWarning)\n",
            "/usr/local/lib/python3.7/dist-packages/sklearn/cluster/birch.py:627: ConvergenceWarning: Number of subclusters found (7) by Birch is less than (51). Decrease the threshold.\n",
            "  % (len(centroids), self.n_clusters), ConvergenceWarning)\n",
            "/usr/local/lib/python3.7/dist-packages/sklearn/cluster/birch.py:627: ConvergenceWarning: Number of subclusters found (7) by Birch is less than (51). Decrease the threshold.\n",
            "  % (len(centroids), self.n_clusters), ConvergenceWarning)\n",
            "/usr/local/lib/python3.7/dist-packages/sklearn/cluster/birch.py:627: ConvergenceWarning: Number of subclusters found (7) by Birch is less than (51). Decrease the threshold.\n",
            "  % (len(centroids), self.n_clusters), ConvergenceWarning)\n",
            "/usr/local/lib/python3.7/dist-packages/sklearn/cluster/birch.py:627: ConvergenceWarning: Number of subclusters found (6) by Birch is less than (51). Decrease the threshold.\n",
            "  % (len(centroids), self.n_clusters), ConvergenceWarning)\n"
          ],
          "name": "stderr"
        },
        {
          "output_type": "stream",
          "text": [
            "Score obtained by this configuration: inf\n"
          ],
          "name": "stdout"
        },
        {
          "output_type": "stream",
          "text": [
            "WARNING:smac.tae.execute_func.ExecuteTAFuncDict:Target Algorithm returned NaN or inf as quality. Algorithm run is treated as CRASHED, cost is set to 2147483647.0 for quality scenarios. (Change value through \"cost_for_crash\"-option.)\n"
          ],
          "name": "stderr"
        },
        {
          "output_type": "stream",
          "text": [
            "Fitting configuration: \n",
            "{'clustering_choice': 'Birch', 'branching_factor___Birch': 585, 'n_clusters___Birch': 53}\n"
          ],
          "name": "stdout"
        },
        {
          "output_type": "stream",
          "text": [
            "/usr/local/lib/python3.7/dist-packages/sklearn/cluster/birch.py:627: ConvergenceWarning: Number of subclusters found (7) by Birch is less than (53). Decrease the threshold.\n",
            "  % (len(centroids), self.n_clusters), ConvergenceWarning)\n",
            "/usr/local/lib/python3.7/dist-packages/sklearn/cluster/birch.py:627: ConvergenceWarning: Number of subclusters found (6) by Birch is less than (53). Decrease the threshold.\n",
            "  % (len(centroids), self.n_clusters), ConvergenceWarning)\n",
            "/usr/local/lib/python3.7/dist-packages/sklearn/cluster/birch.py:627: ConvergenceWarning: Number of subclusters found (7) by Birch is less than (53). Decrease the threshold.\n",
            "  % (len(centroids), self.n_clusters), ConvergenceWarning)\n",
            "/usr/local/lib/python3.7/dist-packages/sklearn/cluster/birch.py:627: ConvergenceWarning: Number of subclusters found (7) by Birch is less than (53). Decrease the threshold.\n",
            "  % (len(centroids), self.n_clusters), ConvergenceWarning)\n",
            "/usr/local/lib/python3.7/dist-packages/sklearn/cluster/birch.py:627: ConvergenceWarning: Number of subclusters found (7) by Birch is less than (53). Decrease the threshold.\n",
            "  % (len(centroids), self.n_clusters), ConvergenceWarning)\n",
            "/usr/local/lib/python3.7/dist-packages/sklearn/cluster/birch.py:627: ConvergenceWarning: Number of subclusters found (6) by Birch is less than (53). Decrease the threshold.\n",
            "  % (len(centroids), self.n_clusters), ConvergenceWarning)\n"
          ],
          "name": "stderr"
        },
        {
          "output_type": "stream",
          "text": [
            "Score obtained by this configuration: inf\n"
          ],
          "name": "stdout"
        },
        {
          "output_type": "stream",
          "text": [
            "WARNING:smac.tae.execute_func.ExecuteTAFuncDict:Target Algorithm returned NaN or inf as quality. Algorithm run is treated as CRASHED, cost is set to 2147483647.0 for quality scenarios. (Change value through \"cost_for_crash\"-option.)\n"
          ],
          "name": "stderr"
        },
        {
          "output_type": "stream",
          "text": [
            "Fitting configuration: \n",
            "{'clustering_choice': 'KMeans', 'n_clusters___KMeans': 6}\n",
            "Score obtained by this configuration: 0.24597965531328314\n",
            "Fitting configuration: \n",
            "{'clustering_choice': 'OPTICS', 'cluster_method___OPTICS': 'xi', 'metric___OPTICS': 'l1', 'min_samples___OPTICS': 450}\n"
          ],
          "name": "stdout"
        },
        {
          "output_type": "stream",
          "text": [
            "Process pynisher function call:\n",
            "Traceback (most recent call last):\n",
            "  File \"/usr/lib/python3.7/multiprocessing/process.py\", line 297, in _bootstrap\n",
            "    self.run()\n",
            "  File \"/usr/lib/python3.7/multiprocessing/process.py\", line 99, in run\n",
            "    self._target(*self._args, **self._kwargs)\n",
            "  File \"/usr/local/lib/python3.7/dist-packages/pynisher/limit_function_call.py\", line 133, in subprocess_func\n",
            "    return_value = ((func(*args, **kwargs), 0))\n",
            "  File \"/usr/local/lib/python3.7/dist-packages/autocluster/autocluster.py\", line 259, in evaluate_model\n",
            "    scaler, dim_reduction_model, clustering_model = fit_models(cfg, train_data)\n",
            "  File \"/usr/local/lib/python3.7/dist-packages/autocluster/autocluster.py\", line 227, in fit_models\n",
            "    clustering_model.fit(compressed_data)\n",
            "  File \"/usr/local/lib/python3.7/dist-packages/sklearn/cluster/optics_.py\", line 248, in fit\n",
            "    max_eps=self.max_eps)\n",
            "  File \"/usr/local/lib/python3.7/dist-packages/sklearn/cluster/optics_.py\", line 438, in compute_optics_graph\n",
            "    _validate_size(min_samples, n_samples, 'min_samples')\n",
            "  File \"/usr/local/lib/python3.7/dist-packages/sklearn/cluster/optics_.py\", line 290, in _validate_size\n",
            "    (param_name, n_samples, size))\n",
            "ValueError: min_samples must be no greater than the number of samples (158). Got 450\n"
          ],
          "name": "stderr"
        },
        {
          "output_type": "stream",
          "text": [
            "Fitting configuration: \n",
            "{'clustering_choice': 'KMeans', 'n_clusters___KMeans': 3}\n",
            "Score obtained by this configuration: 0.25286638274962703\n",
            "Fitting configuration: \n",
            "{'clustering_choice': 'KMeans', 'n_clusters___KMeans': 68}\n",
            "Score obtained by this configuration: 0.1795088432536043\n",
            "Fitting configuration: \n",
            "{'clustering_choice': 'DBSCAN', 'eps___DBSCAN': 1.2478189541652074, 'min_samples___DBSCAN': 100}\n",
            "Score obtained by this configuration: inf\n"
          ],
          "name": "stdout"
        },
        {
          "output_type": "stream",
          "text": [
            "WARNING:smac.tae.execute_func.ExecuteTAFuncDict:Target Algorithm returned NaN or inf as quality. Algorithm run is treated as CRASHED, cost is set to 2147483647.0 for quality scenarios. (Change value through \"cost_for_crash\"-option.)\n"
          ],
          "name": "stderr"
        },
        {
          "output_type": "stream",
          "text": [
            "Fitting configuration: \n",
            "{'clustering_choice': 'DBSCAN', 'eps___DBSCAN': 1.1595777024825646, 'min_samples___DBSCAN': 61}\n",
            "Score obtained by this configuration: inf\n"
          ],
          "name": "stdout"
        },
        {
          "output_type": "stream",
          "text": [
            "WARNING:smac.tae.execute_func.ExecuteTAFuncDict:Target Algorithm returned NaN or inf as quality. Algorithm run is treated as CRASHED, cost is set to 2147483647.0 for quality scenarios. (Change value through \"cost_for_crash\"-option.)\n"
          ],
          "name": "stderr"
        },
        {
          "output_type": "stream",
          "text": [
            "Fitting configuration: \n",
            "{'clustering_choice': 'DBSCAN', 'eps___DBSCAN': 2.5541073902069162, 'min_samples___DBSCAN': 44}\n",
            "Score obtained by this configuration: inf\n"
          ],
          "name": "stdout"
        },
        {
          "output_type": "stream",
          "text": [
            "WARNING:smac.tae.execute_func.ExecuteTAFuncDict:Target Algorithm returned NaN or inf as quality. Algorithm run is treated as CRASHED, cost is set to 2147483647.0 for quality scenarios. (Change value through \"cost_for_crash\"-option.)\n"
          ],
          "name": "stderr"
        },
        {
          "output_type": "stream",
          "text": [
            "Fitting configuration: \n",
            "{'clustering_choice': 'DBSCAN', 'eps___DBSCAN': 3.3820443742330513, 'min_samples___DBSCAN': 78}\n",
            "Score obtained by this configuration: inf\n"
          ],
          "name": "stdout"
        },
        {
          "output_type": "stream",
          "text": [
            "WARNING:smac.tae.execute_func.ExecuteTAFuncDict:Target Algorithm returned NaN or inf as quality. Algorithm run is treated as CRASHED, cost is set to 2147483647.0 for quality scenarios. (Change value through \"cost_for_crash\"-option.)\n"
          ],
          "name": "stderr"
        },
        {
          "output_type": "stream",
          "text": [
            "Fitting configuration: \n",
            "{'clustering_choice': 'OPTICS', 'cluster_method___OPTICS': 'dbscan', 'metric___OPTICS': 'minkowski', 'min_samples___OPTICS': 559}\n"
          ],
          "name": "stdout"
        },
        {
          "output_type": "stream",
          "text": [
            "Process pynisher function call:\n",
            "Traceback (most recent call last):\n",
            "  File \"/usr/lib/python3.7/multiprocessing/process.py\", line 297, in _bootstrap\n",
            "    self.run()\n",
            "  File \"/usr/lib/python3.7/multiprocessing/process.py\", line 99, in run\n",
            "    self._target(*self._args, **self._kwargs)\n",
            "  File \"/usr/local/lib/python3.7/dist-packages/pynisher/limit_function_call.py\", line 133, in subprocess_func\n",
            "    return_value = ((func(*args, **kwargs), 0))\n",
            "  File \"/usr/local/lib/python3.7/dist-packages/autocluster/autocluster.py\", line 259, in evaluate_model\n",
            "    scaler, dim_reduction_model, clustering_model = fit_models(cfg, train_data)\n",
            "  File \"/usr/local/lib/python3.7/dist-packages/autocluster/autocluster.py\", line 227, in fit_models\n",
            "    clustering_model.fit(compressed_data)\n",
            "  File \"/usr/local/lib/python3.7/dist-packages/sklearn/cluster/optics_.py\", line 248, in fit\n",
            "    max_eps=self.max_eps)\n",
            "  File \"/usr/local/lib/python3.7/dist-packages/sklearn/cluster/optics_.py\", line 438, in compute_optics_graph\n",
            "    _validate_size(min_samples, n_samples, 'min_samples')\n",
            "  File \"/usr/local/lib/python3.7/dist-packages/sklearn/cluster/optics_.py\", line 290, in _validate_size\n",
            "    (param_name, n_samples, size))\n",
            "ValueError: min_samples must be no greater than the number of samples (158). Got 559\n"
          ],
          "name": "stderr"
        },
        {
          "output_type": "stream",
          "text": [
            "Fitting configuration: \n",
            "{'clustering_choice': 'Birch', 'branching_factor___Birch': 47, 'n_clusters___Birch': 73}\n"
          ],
          "name": "stdout"
        },
        {
          "output_type": "stream",
          "text": [
            "/usr/local/lib/python3.7/dist-packages/sklearn/cluster/birch.py:627: ConvergenceWarning: Number of subclusters found (7) by Birch is less than (73). Decrease the threshold.\n",
            "  % (len(centroids), self.n_clusters), ConvergenceWarning)\n",
            "/usr/local/lib/python3.7/dist-packages/sklearn/cluster/birch.py:627: ConvergenceWarning: Number of subclusters found (6) by Birch is less than (73). Decrease the threshold.\n",
            "  % (len(centroids), self.n_clusters), ConvergenceWarning)\n",
            "/usr/local/lib/python3.7/dist-packages/sklearn/cluster/birch.py:627: ConvergenceWarning: Number of subclusters found (7) by Birch is less than (73). Decrease the threshold.\n",
            "  % (len(centroids), self.n_clusters), ConvergenceWarning)\n",
            "/usr/local/lib/python3.7/dist-packages/sklearn/cluster/birch.py:627: ConvergenceWarning: Number of subclusters found (7) by Birch is less than (73). Decrease the threshold.\n",
            "  % (len(centroids), self.n_clusters), ConvergenceWarning)\n",
            "/usr/local/lib/python3.7/dist-packages/sklearn/cluster/birch.py:627: ConvergenceWarning: Number of subclusters found (7) by Birch is less than (73). Decrease the threshold.\n",
            "  % (len(centroids), self.n_clusters), ConvergenceWarning)\n",
            "/usr/local/lib/python3.7/dist-packages/sklearn/cluster/birch.py:627: ConvergenceWarning: Number of subclusters found (6) by Birch is less than (73). Decrease the threshold.\n",
            "  % (len(centroids), self.n_clusters), ConvergenceWarning)\n"
          ],
          "name": "stderr"
        },
        {
          "output_type": "stream",
          "text": [
            "Score obtained by this configuration: inf\n"
          ],
          "name": "stdout"
        },
        {
          "output_type": "stream",
          "text": [
            "WARNING:smac.tae.execute_func.ExecuteTAFuncDict:Target Algorithm returned NaN or inf as quality. Algorithm run is treated as CRASHED, cost is set to 2147483647.0 for quality scenarios. (Change value through \"cost_for_crash\"-option.)\n"
          ],
          "name": "stderr"
        },
        {
          "output_type": "stream",
          "text": [
            "Fitting configuration: \n",
            "{'clustering_choice': 'OPTICS', 'cluster_method___OPTICS': 'dbscan', 'metric___OPTICS': 'manhattan', 'min_samples___OPTICS': 475}\n"
          ],
          "name": "stdout"
        },
        {
          "output_type": "stream",
          "text": [
            "Process pynisher function call:\n",
            "Traceback (most recent call last):\n",
            "  File \"/usr/lib/python3.7/multiprocessing/process.py\", line 297, in _bootstrap\n",
            "    self.run()\n",
            "  File \"/usr/lib/python3.7/multiprocessing/process.py\", line 99, in run\n",
            "    self._target(*self._args, **self._kwargs)\n",
            "  File \"/usr/local/lib/python3.7/dist-packages/pynisher/limit_function_call.py\", line 133, in subprocess_func\n",
            "    return_value = ((func(*args, **kwargs), 0))\n",
            "  File \"/usr/local/lib/python3.7/dist-packages/autocluster/autocluster.py\", line 259, in evaluate_model\n",
            "    scaler, dim_reduction_model, clustering_model = fit_models(cfg, train_data)\n",
            "  File \"/usr/local/lib/python3.7/dist-packages/autocluster/autocluster.py\", line 227, in fit_models\n",
            "    clustering_model.fit(compressed_data)\n",
            "  File \"/usr/local/lib/python3.7/dist-packages/sklearn/cluster/optics_.py\", line 248, in fit\n",
            "    max_eps=self.max_eps)\n",
            "  File \"/usr/local/lib/python3.7/dist-packages/sklearn/cluster/optics_.py\", line 438, in compute_optics_graph\n",
            "    _validate_size(min_samples, n_samples, 'min_samples')\n",
            "  File \"/usr/local/lib/python3.7/dist-packages/sklearn/cluster/optics_.py\", line 290, in _validate_size\n",
            "    (param_name, n_samples, size))\n",
            "ValueError: min_samples must be no greater than the number of samples (158). Got 475\n"
          ],
          "name": "stderr"
        },
        {
          "output_type": "stream",
          "text": [
            "Fitting configuration: \n",
            "{'clustering_choice': 'KMeans', 'n_clusters___KMeans': 12}\n",
            "Score obtained by this configuration: 0.2990779816896325\n",
            "Fitting configuration: \n",
            "{'clustering_choice': 'DBSCAN', 'eps___DBSCAN': 4.838669492534114, 'min_samples___DBSCAN': 48}\n",
            "Score obtained by this configuration: inf\n"
          ],
          "name": "stdout"
        },
        {
          "output_type": "stream",
          "text": [
            "WARNING:smac.tae.execute_func.ExecuteTAFuncDict:Target Algorithm returned NaN or inf as quality. Algorithm run is treated as CRASHED, cost is set to 2147483647.0 for quality scenarios. (Change value through \"cost_for_crash\"-option.)\n"
          ],
          "name": "stderr"
        },
        {
          "output_type": "stream",
          "text": [
            "Fitting configuration: \n",
            "{'clustering_choice': 'SpectralClustering', 'affinity___SpectralClustering': 'laplacian', 'assign_labels___SpectralClustering': 'discretize', 'eigen_solver___SpectralClustering': 'arpack', 'n_clusters___SpectralClustering': 46}\n",
            "Score obtained by this configuration: 0.3004298930478087\n",
            "Fitting configuration: \n",
            "{'clustering_choice': 'DBSCAN', 'eps___DBSCAN': 1.4554584655064602, 'min_samples___DBSCAN': 98}\n",
            "Score obtained by this configuration: inf\n"
          ],
          "name": "stdout"
        },
        {
          "output_type": "stream",
          "text": [
            "WARNING:smac.tae.execute_func.ExecuteTAFuncDict:Target Algorithm returned NaN or inf as quality. Algorithm run is treated as CRASHED, cost is set to 2147483647.0 for quality scenarios. (Change value through \"cost_for_crash\"-option.)\n"
          ],
          "name": "stderr"
        },
        {
          "output_type": "stream",
          "text": [
            "Fitting configuration: \n",
            "{'clustering_choice': 'SpectralClustering', 'affinity___SpectralClustering': 'laplacian', 'assign_labels___SpectralClustering': 'discretize', 'eigen_solver___SpectralClustering': 'arpack', 'n_clusters___SpectralClustering': 36}\n",
            "Score obtained by this configuration: 0.31985176598049825\n",
            "Fitting configuration: \n",
            "{'clustering_choice': 'SpectralClustering', 'affinity___SpectralClustering': 'rbf', 'assign_labels___SpectralClustering': 'kmeans', 'eigen_solver___SpectralClustering': 'arpack', 'n_clusters___SpectralClustering': 17}\n",
            "Score obtained by this configuration: 0.3384064868025632\n",
            "Fitting configuration: \n",
            "{'clustering_choice': 'SpectralClustering', 'affinity___SpectralClustering': 'rbf', 'assign_labels___SpectralClustering': 'kmeans', 'eigen_solver___SpectralClustering': 'arpack', 'n_clusters___SpectralClustering': 37}\n",
            "Score obtained by this configuration: 0.3213070417853305\n",
            "Fitting configuration: \n",
            "{'clustering_choice': 'KMeans', 'n_clusters___KMeans': 42}\n",
            "Score obtained by this configuration: 0.23690320468500192\n",
            "Fitting configuration: \n",
            "{'clustering_choice': 'KMeans', 'n_clusters___KMeans': 58}\n",
            "Score obtained by this configuration: 0.19778106996327396\n",
            "Fitting configuration: \n",
            "{'clustering_choice': 'OPTICS', 'cluster_method___OPTICS': 'xi', 'metric___OPTICS': 'euclidean', 'min_samples___OPTICS': 79}\n",
            "Score obtained by this configuration: inf\n"
          ],
          "name": "stdout"
        },
        {
          "output_type": "stream",
          "text": [
            "WARNING:smac.tae.execute_func.ExecuteTAFuncDict:Target Algorithm returned NaN or inf as quality. Algorithm run is treated as CRASHED, cost is set to 2147483647.0 for quality scenarios. (Change value through \"cost_for_crash\"-option.)\n"
          ],
          "name": "stderr"
        },
        {
          "output_type": "stream",
          "text": [
            "Fitting configuration: \n",
            "{'clustering_choice': 'Birch', 'branching_factor___Birch': 677, 'n_clusters___Birch': 64}\n"
          ],
          "name": "stdout"
        },
        {
          "output_type": "stream",
          "text": [
            "/usr/local/lib/python3.7/dist-packages/sklearn/cluster/birch.py:627: ConvergenceWarning: Number of subclusters found (7) by Birch is less than (64). Decrease the threshold.\n",
            "  % (len(centroids), self.n_clusters), ConvergenceWarning)\n",
            "/usr/local/lib/python3.7/dist-packages/sklearn/cluster/birch.py:627: ConvergenceWarning: Number of subclusters found (6) by Birch is less than (64). Decrease the threshold.\n",
            "  % (len(centroids), self.n_clusters), ConvergenceWarning)\n",
            "/usr/local/lib/python3.7/dist-packages/sklearn/cluster/birch.py:627: ConvergenceWarning: Number of subclusters found (7) by Birch is less than (64). Decrease the threshold.\n",
            "  % (len(centroids), self.n_clusters), ConvergenceWarning)\n",
            "/usr/local/lib/python3.7/dist-packages/sklearn/cluster/birch.py:627: ConvergenceWarning: Number of subclusters found (7) by Birch is less than (64). Decrease the threshold.\n",
            "  % (len(centroids), self.n_clusters), ConvergenceWarning)\n",
            "/usr/local/lib/python3.7/dist-packages/sklearn/cluster/birch.py:627: ConvergenceWarning: Number of subclusters found (7) by Birch is less than (64). Decrease the threshold.\n",
            "  % (len(centroids), self.n_clusters), ConvergenceWarning)\n",
            "/usr/local/lib/python3.7/dist-packages/sklearn/cluster/birch.py:627: ConvergenceWarning: Number of subclusters found (6) by Birch is less than (64). Decrease the threshold.\n",
            "  % (len(centroids), self.n_clusters), ConvergenceWarning)\n"
          ],
          "name": "stderr"
        },
        {
          "output_type": "stream",
          "text": [
            "Score obtained by this configuration: inf\n"
          ],
          "name": "stdout"
        },
        {
          "output_type": "stream",
          "text": [
            "WARNING:smac.tae.execute_func.ExecuteTAFuncDict:Target Algorithm returned NaN or inf as quality. Algorithm run is treated as CRASHED, cost is set to 2147483647.0 for quality scenarios. (Change value through \"cost_for_crash\"-option.)\n"
          ],
          "name": "stderr"
        },
        {
          "output_type": "stream",
          "text": [
            "Fitting configuration: \n",
            "{'clustering_choice': 'KMeans', 'n_clusters___KMeans': 71}\n",
            "Score obtained by this configuration: 0.17211213407499262\n",
            "Fitting configuration: \n",
            "{'clustering_choice': 'SpectralClustering', 'affinity___SpectralClustering': 'nearest_neighbors', 'assign_labels___SpectralClustering': 'kmeans', 'eigen_solver___SpectralClustering': 'arpack', 'n_clusters___SpectralClustering': 36}\n"
          ],
          "name": "stdout"
        },
        {
          "output_type": "stream",
          "text": [
            "/usr/local/lib/python3.7/dist-packages/sklearn/manifold/spectral_embedding_.py:235: UserWarning: Graph is not fully connected, spectral embedding may not work as expected.\n",
            "  warnings.warn(\"Graph is not fully connected, spectral embedding\"\n",
            "/usr/local/lib/python3.7/dist-packages/sklearn/manifold/spectral_embedding_.py:235: UserWarning: Graph is not fully connected, spectral embedding may not work as expected.\n",
            "  warnings.warn(\"Graph is not fully connected, spectral embedding\"\n",
            "/usr/local/lib/python3.7/dist-packages/sklearn/manifold/spectral_embedding_.py:235: UserWarning: Graph is not fully connected, spectral embedding may not work as expected.\n",
            "  warnings.warn(\"Graph is not fully connected, spectral embedding\"\n"
          ],
          "name": "stderr"
        },
        {
          "output_type": "stream",
          "text": [
            "Score obtained by this configuration: 0.5147650456261945\n",
            "Fitting configuration: \n",
            "{'clustering_choice': 'SpectralClustering', 'affinity___SpectralClustering': 'poly', 'assign_labels___SpectralClustering': 'kmeans', 'eigen_solver___SpectralClustering': 'arpack', 'n_clusters___SpectralClustering': 68}\n",
            "Score obtained by this configuration: 0.2599041375552545\n",
            "Optimization is complete.\n",
            "Took 56.88 seconds.\n",
            "The optimal configuration is \n",
            "Configuration:\n",
            "  clustering_choice, Value: 'KMeans'\n",
            "  n_clusters___KMeans, Value: 71\n",
            "\n"
          ],
          "name": "stdout"
        }
      ]
    },
    {
      "cell_type": "code",
      "metadata": {
        "colab": {
          "base_uri": "https://localhost:8080/",
          "height": 595
        },
        "id": "xa7R4XRjbcRq",
        "outputId": "06a42533-2183-428d-cc7b-5abcb8deb8a1"
      },
      "source": [
        "predictions = cluster.predict(dummy_df, save_plot=False)"
      ],
      "execution_count": null,
      "outputs": [
        {
          "output_type": "display_data",
          "data": {
            "image/png": "[encoded data removed]",
            "text/plain": [
              "<Figure size 720x720 with 1 Axes>"
            ]
          },
          "metadata": {
            "tags": [],
            "needs_background": "dark"
          }
        }
      ]
    }
  ]
}