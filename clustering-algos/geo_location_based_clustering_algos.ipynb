{
  "nbformat": 4,
  "nbformat_minor": 0,
  "metadata": {
    "colab": {
      "name": "geo-location based clustering algos.ipynb",
      "provenance": [],
      "authorship_tag": "ABX9TyP5A0xooXQJv+AFlBdaOyYa",
      "include_colab_link": true
    },
    "kernelspec": {
      "name": "python3",
      "display_name": "Python 3"
    },
    "language_info": {
      "name": "python"
    }
  },
  "cells": [
    {
      "cell_type": "markdown",
      "metadata": {
        "id": "view-in-github",
        "colab_type": "text"
      },
      "source": [
        "<a href=\"https://colab.research.google.com/github/Praveendwivedi/VehicleRoutingProblem/blob/main/clustering-algos/geo_location_based_clustering_algos.ipynb\" target=\"_parent\"><img src=\"https://colab.research.google.com/assets/colab-badge.svg\" alt=\"Open In Colab\"/></a>"
      ]
    },
    {
      "cell_type": "code",
      "metadata": {
        "colab": {
          "base_uri": "https://localhost:8080/"
        },
        "id": "49qcnRCpZm09",
        "outputId": "42d2b052-60fe-43de-83e0-cad4ab41753a"
      },
      "source": [
        "!pip3 install pyclustering"
      ],
      "execution_count": 1,
      "outputs": [
        {
          "output_type": "stream",
          "text": [
            "Collecting pyclustering\n",
            "\u001b[?25l  Downloading https://files.pythonhosted.org/packages/4b/cf/6c1183d0c1e76df398d0808f78cabaedd87a1ca7548b9b03d51620ff55eb/pyclustering-0.10.1.2.tar.gz (2.6MB)\n",
            "\u001b[K     |████████████████████████████████| 2.6MB 7.0MB/s \n",
            "\u001b[?25hRequirement already satisfied: scipy>=1.1.0 in /usr/local/lib/python3.7/dist-packages (from pyclustering) (1.4.1)\n",
            "Requirement already satisfied: matplotlib>=3.0.0 in /usr/local/lib/python3.7/dist-packages (from pyclustering) (3.2.2)\n",
            "Requirement already satisfied: numpy>=1.15.2 in /usr/local/lib/python3.7/dist-packages (from pyclustering) (1.19.5)\n",
            "Requirement already satisfied: Pillow>=5.2.0 in /usr/local/lib/python3.7/dist-packages (from pyclustering) (7.1.2)\n",
            "Requirement already satisfied: python-dateutil>=2.1 in /usr/local/lib/python3.7/dist-packages (from matplotlib>=3.0.0->pyclustering) (2.8.1)\n",
            "Requirement already satisfied: pyparsing!=2.0.4,!=2.1.2,!=2.1.6,>=2.0.1 in /usr/local/lib/python3.7/dist-packages (from matplotlib>=3.0.0->pyclustering) (2.4.7)\n",
            "Requirement already satisfied: kiwisolver>=1.0.1 in /usr/local/lib/python3.7/dist-packages (from matplotlib>=3.0.0->pyclustering) (1.3.1)\n",
            "Requirement already satisfied: cycler>=0.10 in /usr/local/lib/python3.7/dist-packages (from matplotlib>=3.0.0->pyclustering) (0.10.0)\n",
            "Requirement already satisfied: six>=1.5 in /usr/local/lib/python3.7/dist-packages (from python-dateutil>=2.1->matplotlib>=3.0.0->pyclustering) (1.15.0)\n",
            "Building wheels for collected packages: pyclustering\n",
            "  Building wheel for pyclustering (setup.py) ... \u001b[?25l\u001b[?25hdone\n",
            "  Created wheel for pyclustering: filename=pyclustering-0.10.1.2-cp37-none-any.whl size=2395105 sha256=d5c7ddb057e048d358c0a681e34957924ce73a035082e7f7ca8063a0dc8fbca6\n",
            "  Stored in directory: /root/.cache/pip/wheels/d4/98/57/2f53b94ccf47805e95e189e8a18f58a51ff61d67955b79c60d\n",
            "Successfully built pyclustering\n",
            "Installing collected packages: pyclustering\n",
            "Successfully installed pyclustering-0.10.1.2\n"
          ],
          "name": "stdout"
        }
      ]
    },
    {
      "cell_type": "markdown",
      "metadata": {
        "id": "hEOX51UYaW2p"
      },
      "source": [
        "**import essential libraries**"
      ]
    },
    {
      "cell_type": "code",
      "metadata": {
        "colab": {
          "base_uri": "https://localhost:8080/",
          "height": 252
        },
        "id": "Ucbpxvu1adtV",
        "outputId": "82a5ccce-76d2-463a-8c63-2ac65d925399"
      },
      "source": [
        "from pyclustering.cluster import cluster_visualizer;\n",
        "from pyclustering.cluster.cure import cure;\n",
        "from pyclustering.utils import read_sample;\n",
        "from pyclustering.samples.definitions import FCPS_SAMPLES;\n",
        "\n",
        "# Input data in following format [ [0.1, 0.5], [0.3, 0.1], ... ].\n",
        "input_data = read_sample(FCPS_SAMPLES.SAMPLE_LSUN);\n",
        "\n",
        "# Allocate three clusters.\n",
        "cure_instance = cure(input_data, 3);\n",
        "cure_instance.process();\n",
        "clusters = cure_instance.get_clusters();\n",
        "\n",
        "# Visualize allocated clusters.\n",
        "visualizer = cluster_visualizer();\n",
        "visualizer.append_clusters(clusters, input_data);\n",
        "visualizer.show();"
      ],
      "execution_count": 2,
      "outputs": [
        {
          "output_type": "display_data",
          "data": {
            "image/png": "[encoded data removed]",
            "text/plain": [
              "<Figure size 432x288 with 1 Axes>"
            ]
          },
          "metadata": {
            "tags": [],
            "needs_background": "light"
          }
        }
      ]
    },
    {
      "cell_type": "markdown",
      "metadata": {
        "id": "z9m24w_rZ4wp"
      },
      "source": [
        "**load sample data**"
      ]
    },
    {
      "cell_type": "code",
      "metadata": {
        "id": "_3hgGkqJZ4Uh"
      },
      "source": [
        ""
      ],
      "execution_count": null,
      "outputs": []
    }
  ]
}