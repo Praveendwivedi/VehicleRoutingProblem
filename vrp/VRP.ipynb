{
  "nbformat": 4,
  "nbformat_minor": 0,
  "metadata": {
    "colab": {
      "name": "VRP.ipynb",
      "provenance": [],
      "authorship_tag": "ABX9TyNAjkILCnQQwoEQxAAFtjpO",
      "include_colab_link": true
    },
    "kernelspec": {
      "name": "python3",
      "display_name": "Python 3"
    },
    "language_info": {
      "name": "python"
    }
  },
  "cells": [
    {
      "cell_type": "markdown",
      "metadata": {
        "id": "view-in-github",
        "colab_type": "text"
      },
      "source": [
        "<a href=\"https://colab.research.google.com/github/Praveendwivedi/VehicleRoutingProblem/blob/main/vrp/VRP.ipynb\" target=\"_parent\"><img src=\"https://colab.research.google.com/assets/colab-badge.svg\" alt=\"Open In Colab\"/></a>"
      ]
    },
    {
      "cell_type": "code",
      "metadata": {
        "id": "jaBv9QgD8wJ3",
        "colab": {
          "base_uri": "https://localhost:8080/",
          "height": 351
        },
        "outputId": "9f7bfe7e-f474-4df8-e937-ea479e72c16d"
      },
      "source": [
        "!pip install ortools"
      ],
      "execution_count": 1,
      "outputs": [
        {
          "output_type": "stream",
          "text": [
            "Collecting ortools\n",
            "\u001b[?25l  Downloading https://files.pythonhosted.org/packages/6a/bd/75277072925d687aa35a6ea9e23e81a7f6b7c980b2a80949c5b9a3f98c79/ortools-9.0.9048-cp37-cp37m-manylinux1_x86_64.whl (14.4MB)\n",
            "\u001b[K     |████████████████████████████████| 14.4MB 265kB/s \n",
            "\u001b[?25hCollecting protobuf>=3.15.8\n",
            "\u001b[?25l  Downloading https://files.pythonhosted.org/packages/bb/f8/07b65b1c3a2334208208b8161857fd9c19f69ab5d2c5314ef5f0b5f07aa5/protobuf-3.17.1-cp37-cp37m-manylinux_2_5_x86_64.manylinux1_x86_64.whl (1.0MB)\n",
            "\u001b[K     |████████████████████████████████| 1.0MB 32.0MB/s \n",
            "\u001b[?25hRequirement already satisfied: absl-py>=0.11 in /usr/local/lib/python3.7/dist-packages (from ortools) (0.12.0)\n",
            "Requirement already satisfied: six>=1.9 in /usr/local/lib/python3.7/dist-packages (from protobuf>=3.15.8->ortools) (1.15.0)\n",
            "Installing collected packages: protobuf, ortools\n",
            "  Found existing installation: protobuf 3.12.4\n",
            "    Uninstalling protobuf-3.12.4:\n",
            "      Successfully uninstalled protobuf-3.12.4\n",
            "Successfully installed ortools-9.0.9048 protobuf-3.17.1\n"
          ],
          "name": "stdout"
        },
        {
          "output_type": "display_data",
          "data": {
            "application/vnd.colab-display-data+json": {
              "pip_warning": {
                "packages": [
                  "google"
                ]
              }
            }
          },
          "metadata": {
            "tags": []
          }
        }
      ]
    },
    {
      "cell_type": "code",
      "metadata": {
        "id": "tpsSKDNbDiSH"
      },
      "source": [
        "\"\"\"Capacited Vehicles Routing Problem (CVRP).\"\"\"\n",
        "\n",
        "from ortools.constraint_solver import routing_enums_pb2\n",
        "from ortools.constraint_solver import pywrapcp\n",
        "\n",
        "\n",
        "def create_data_models():\n",
        "    \"\"\"Stores the data for the problem.\"\"\"\n",
        "    data = {}\n",
        "    data['distance_matrix'] = [\n",
        "        [\n",
        "            0, 548, 776, 696, 582, 274, 502, 194, 308, 194, 536, 502, 388, 354,\n",
        "            468, 776, 662\n",
        "        ],\n",
        "        [\n",
        "            548, 0, 684, 308, 194, 502, 730, 354, 696, 742, 1084, 594, 480, 674,\n",
        "            1016, 868, 1210\n",
        "        ],\n",
        "        [\n",
        "            776, 684, 0, 992, 878, 502, 274, 810, 468, 742, 400, 1278, 1164,\n",
        "            1130, 788, 1552, 754\n",
        "        ],\n",
        "        [\n",
        "            696, 308, 992, 0, 114, 650, 878, 502, 844, 890, 1232, 514, 628, 822,\n",
        "            1164, 560, 1358\n",
        "        ],\n",
        "        [\n",
        "            582, 194, 878, 114, 0, 536, 764, 388, 730, 776, 1118, 400, 514, 708,\n",
        "            1050, 674, 1244\n",
        "        ],\n",
        "        [\n",
        "            274, 502, 502, 650, 536, 0, 228, 308, 194, 240, 582, 776, 662, 628,\n",
        "            514, 1050, 708\n",
        "        ],\n",
        "        [\n",
        "            502, 730, 274, 878, 764, 228, 0, 536, 194, 468, 354, 1004, 890, 856,\n",
        "            514, 1278, 480\n",
        "        ],\n",
        "        [\n",
        "            194, 354, 810, 502, 388, 308, 536, 0, 342, 388, 730, 468, 354, 320,\n",
        "            662, 742, 856\n",
        "        ],\n",
        "        [\n",
        "            308, 696, 468, 844, 730, 194, 194, 342, 0, 274, 388, 810, 696, 662,\n",
        "            320, 1084, 514\n",
        "        ],\n",
        "        [\n",
        "            194, 742, 742, 890, 776, 240, 468, 388, 274, 0, 342, 536, 422, 388,\n",
        "            274, 810, 468\n",
        "        ],\n",
        "        [\n",
        "            536, 1084, 400, 1232, 1118, 582, 354, 730, 388, 342, 0, 878, 764,\n",
        "            730, 388, 1152, 354\n",
        "        ],\n",
        "        [\n",
        "            502, 594, 1278, 514, 400, 776, 1004, 468, 810, 536, 878, 0, 114,\n",
        "            308, 650, 274, 844\n",
        "        ],\n",
        "        [\n",
        "            388, 480, 1164, 628, 514, 662, 890, 354, 696, 422, 764, 114, 0, 194,\n",
        "            536, 388, 730\n",
        "        ],\n",
        "        [\n",
        "            354, 674, 1130, 822, 708, 628, 856, 320, 662, 388, 730, 308, 194, 0,\n",
        "            342, 422, 536\n",
        "        ],\n",
        "        [\n",
        "            468, 1016, 788, 1164, 1050, 514, 514, 662, 320, 274, 388, 650, 536,\n",
        "            342, 0, 764, 194\n",
        "        ],\n",
        "        [\n",
        "            776, 868, 1552, 560, 674, 1050, 1278, 742, 1084, 810, 1152, 274,\n",
        "            388, 422, 764, 0, 798\n",
        "        ],\n",
        "        [\n",
        "            662, 1210, 754, 1358, 1244, 708, 480, 856, 514, 468, 354, 844, 730,\n",
        "            536, 194, 798, 0\n",
        "        ],\n",
        "    ]\n",
        "    data['demands'] = [0, 1, 1, 2, 4, 2, 4, 8, 8, 1, 2, 1, 2, 4, 4, 8, 8]\n",
        "    data['vehicle_capacities'] = [15, 15, 15, 15]\n",
        "    data['num_vehicles'] = 4\n",
        "    data['depot'] = 0\n",
        "    return data\n",
        "\n",
        "\n",
        "def print_solution(data, manager, routing, solution):\n",
        "    \"\"\"Prints solution on console.\"\"\"\n",
        "    print(f'Objective: {solution.ObjectiveValue()}')\n",
        "    total_distance = 0\n",
        "    total_load = 0\n",
        "    for vehicle_id in range(data['num_vehicles']):\n",
        "        index = routing.Start(vehicle_id)\n",
        "        plan_output = 'Route for vehicle {}:\\n'.format(vehicle_id)\n",
        "        route_distance = 0\n",
        "        route_load = 0\n",
        "        while not routing.IsEnd(index):\n",
        "            node_index = manager.IndexToNode(index)\n",
        "            route_load += data['demands'][node_index]\n",
        "            plan_output += ' {0} Load({1}) -> '.format(node_index, route_load)\n",
        "            previous_index = index\n",
        "            index = solution.Value(routing.NextVar(index))\n",
        "            route_distance += routing.GetArcCostForVehicle(\n",
        "                previous_index, index, vehicle_id)\n",
        "        plan_output += ' {0} Load({1})\\n'.format(manager.IndexToNode(index),\n",
        "                                                 route_load)\n",
        "        plan_output += 'Distance of the route: {}m\\n'.format(route_distance)\n",
        "        plan_output += 'Load of the route: {}\\n'.format(route_load)\n",
        "        print(plan_output)\n",
        "        total_distance += route_distance\n",
        "        total_load += route_load\n",
        "    print('Total distance of all routes: {}m'.format(total_distance))\n",
        "    print('Total load of all routes: {}'.format(total_load))\n",
        "\n",
        "\n"
      ],
      "execution_count": null,
      "outputs": []
    },
    {
      "cell_type": "code",
      "metadata": {
        "id": "0hT8jvNwVhPH"
      },
      "source": [
        "from random import randint\n",
        "mat=[[0 for _ in range(500)]for _ in range(500)]\n",
        "\n",
        "for i in range(0,len(mat)):\n",
        "  for j in range(i+1,len(mat)):\n",
        "    mat[i][j]=randint(0,10000)\n",
        "    mat[j][i]=mat[i][j]\n",
        "  # print(mat[i])\n",
        "# print(mat[0][99])\n",
        "def create_data_model():\n",
        "  data={}\n",
        "  data['distance_matrix'] = mat\n",
        "  data['demands'] = [randint(1,10) for _ in range(500)]\n",
        "  data['vehicle_capacities'] = [15]*100\n",
        "  data['num_vehicles'] = 100\n",
        "  data['depot'] = 0\n",
        "  return data\n"
      ],
      "execution_count": 32,
      "outputs": []
    },
    {
      "cell_type": "code",
      "metadata": {
        "id": "M8mPfdRpVdnG"
      },
      "source": [
        "def main():\n",
        "    \"\"\"Solve the CVRP problem.\"\"\"\n",
        "    # Instantiate the data problem.\n",
        "    data = create_data_model()\n",
        "\n",
        "    # Create the routing index manager.\n",
        "    manager = pywrapcp.RoutingIndexManager(len(data['distance_matrix']),\n",
        "                                           data['num_vehicles'], data['depot'])\n",
        "\n",
        "    # Create Routing Model.\n",
        "    routing = pywrapcp.RoutingModel(manager)\n",
        "\n",
        "\n",
        "    # Create and register a transit callback.\n",
        "    def distance_callback(from_index, to_index):\n",
        "        \"\"\"Returns the distance between the two nodes.\"\"\"\n",
        "        # Convert from routing variable Index to distance matrix NodeIndex.\n",
        "        from_node = manager.IndexToNode(from_index)\n",
        "        to_node = manager.IndexToNode(to_index)\n",
        "        return data['distance_matrix'][from_node][to_node]\n",
        "\n",
        "    transit_callback_index = routing.RegisterTransitCallback(distance_callback)\n",
        "\n",
        "    # Define cost of each arc.\n",
        "    routing.SetArcCostEvaluatorOfAllVehicles(transit_callback_index)\n",
        "\n",
        "\n",
        "    # Add Capacity constraint.\n",
        "    def demand_callback(from_index):\n",
        "        \"\"\"Returns the demand of the node.\"\"\"\n",
        "        # Convert from routing variable Index to demands NodeIndex.\n",
        "        from_node = manager.IndexToNode(from_index)\n",
        "        return data['demands'][from_node]\n",
        "\n",
        "    demand_callback_index = routing.RegisterUnaryTransitCallback(\n",
        "        demand_callback)\n",
        "    routing.AddDimensionWithVehicleCapacity(\n",
        "        demand_callback_index,\n",
        "        0,  # null capacity slack\n",
        "        data['vehicle_capacities'],  # vehicle maximum capacities\n",
        "        True,  # start cumul to zero\n",
        "        'Capacity')\n",
        "\n",
        "    # Setting first solution heuristic.\n",
        "    search_parameters = pywrapcp.DefaultRoutingSearchParameters()\n",
        "    search_parameters.first_solution_strategy = (\n",
        "        routing_enums_pb2.FirstSolutionStrategy.PATH_CHEAPEST_ARC)\n",
        "    search_parameters.local_search_metaheuristic = (\n",
        "        routing_enums_pb2.LocalSearchMetaheuristic.GUIDED_LOCAL_SEARCH)\n",
        "    search_parameters.time_limit.FromSeconds(1)\n",
        "\n",
        "    # Solve the problem.\n",
        "    solution = routing.SolveWithParameters(search_parameters)\n",
        "\n",
        "    # Print solution on console.\n",
        "    if solution:\n",
        "        print_solution(data, manager, routing, solution)\n",
        "\n",
        "\n",
        "if __name__ == '__main__':\n",
        "    main()"
      ],
      "execution_count": 34,
      "outputs": []
    }
  ]
}